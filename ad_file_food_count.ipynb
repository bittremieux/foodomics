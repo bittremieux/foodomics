{
 "cells": [
  {
   "cell_type": "code",
   "execution_count": null,
   "metadata": {
    "scrolled": true
   },
   "outputs": [],
   "source": [
    "import numpy as np\n",
    "import pandas as pd"
   ]
  },
  {
   "cell_type": "markdown",
   "metadata": {},
   "source": [
    "### GFOP sample type metadata "
   ]
  },
  {
   "cell_type": "code",
   "execution_count": null,
   "metadata": {
    "scrolled": true
   },
   "outputs": [],
   "source": [
    "def get_sample_types(gfop_metadata, simple_complex=None):\n",
    "    if simple_complex is not None:\n",
    "        gfop_metadata = gfop_metadata[\n",
    "            gfop_metadata['simple_complex'] == simple_complex]\n",
    "    col_sample_types = [f'sample_type_group{i}' for i in range(1, 7)]\n",
    "    return (gfop_metadata[['filename', *col_sample_types]]\n",
    "            .set_index('filename'))"
   ]
  },
  {
   "cell_type": "code",
   "execution_count": null,
   "metadata": {
    "scrolled": true
   },
   "outputs": [],
   "source": [
    "gfop_metadata = pd.read_csv(\n",
    "    '../data/11442_foodomics_multiproject_metadata.txt', sep='\\t')\n",
    "# First row is empty.\n",
    "gfop_metadata = gfop_metadata.drop(index=0)\n",
    "# Remove trailing whitespace.\n",
    "gfop_metadata = gfop_metadata.apply(lambda col: col.str.strip()\n",
    "                                    if col.dtype == 'object' else col)"
   ]
  },
  {
   "cell_type": "markdown",
   "metadata": {},
   "source": [
    "### Food count per file"
   ]
  },
  {
   "cell_type": "code",
   "execution_count": null,
   "metadata": {
    "scrolled": true
   },
   "outputs": [],
   "source": [
    "def get_file_food_counts(gnps_network, sample_types, groups_included,\n",
    "                         filenames_included, level):\n",
    "    # Select GNPS job groups.\n",
    "    groups = {f'G{i}' for i in range(1, 7)}\n",
    "    groups_excluded = groups - set(groups_included)\n",
    "    df_selected = gnps_network[\n",
    "        (gnps_network[groups_included] > 0).all(axis=1) &\n",
    "        (gnps_network[groups_excluded] == 0).all(axis=1)].copy()\n",
    "    df_selected = df_selected[\n",
    "        df_selected['UniqueFileSources'].apply(lambda cluster_fn:\n",
    "            any(fn in cluster_fn for fn in filenames_included))]\n",
    "    filenames = (df_selected['UniqueFileSources'].str.split('|')\n",
    "                 .explode())\n",
    "    # Select food hierarchy levels.\n",
    "    sample_types = sample_types[f'sample_type_group{level}']\n",
    "    # Match the GNPS job results to the food sample types.\n",
    "    sample_types_selected = sample_types.reindex(filenames)\n",
    "    sample_types_selected = sample_types_selected.dropna()\n",
    "    # Discard samples that occur less frequent than water (blank).\n",
    "    water_count = (sample_types_selected == 'water').sum()\n",
    "    sample_counts = sample_types_selected.value_counts()\n",
    "    sample_counts_valid = sample_counts.index[sample_counts > water_count]\n",
    "    sample_types_selected = sample_types_selected[\n",
    "        sample_types_selected.isin(sample_counts_valid)]\n",
    "    # Get sample counts at the specified level.\n",
    "    return sample_types_selected.value_counts()"
   ]
  },
  {
   "cell_type": "code",
   "execution_count": null,
   "metadata": {
    "scrolled": true
   },
   "outputs": [],
   "source": [
    "sample_types_simple = get_sample_types(gfop_metadata, 'simple')\n",
    "sample_types_complex = get_sample_types(gfop_metadata, 'complex')"
   ]
  },
  {
   "cell_type": "code",
   "execution_count": null,
   "metadata": {},
   "outputs": [],
   "source": [
    "metadata = pd.read_csv(\n",
    "    '../data/27_33_AD Plasma - CSF - FoodOmics 3500 FDR 0.01 tol 0.01 2 mincluster/'\n",
    "    'AD_metadata_JMG.txt', sep='\\t')"
   ]
  },
  {
   "cell_type": "code",
   "execution_count": null,
   "metadata": {
    "scrolled": true
   },
   "outputs": [],
   "source": [
    "gnps_network = pd.read_csv(\n",
    "    '../data/27_33_AD Plasma - CSF - FoodOmics 3500 FDR 0.01 tol 0.01 2 mincluster/'\n",
    "    'METABOLOMICS-SNETS-V2-aac78e9d-view_all_clusters_withID_beta-main.tsv',\n",
    "    sep='\\t')"
   ]
  },
  {
   "cell_type": "code",
   "execution_count": null,
   "metadata": {},
   "outputs": [],
   "source": [
    "level = 4\n",
    "food_counts, filenames = [], []\n",
    "for sample_type, groups in [('Plasma', ['G1', 'G4']), ('CSF', ['G2', 'G4'])]:\n",
    "    for filename in (metadata[metadata['Specimen_Type'] == sample_type]\n",
    "                     ['filename']):\n",
    "        file_food_counts = get_file_food_counts(\n",
    "            gnps_network, sample_types_simple, groups, [filename], level)\n",
    "        if len(file_food_counts) > 0:\n",
    "            food_counts.append(file_food_counts)\n",
    "            filenames.append(filename)"
   ]
  },
  {
   "cell_type": "code",
   "execution_count": null,
   "metadata": {},
   "outputs": [],
   "source": [
    "food_counts = (pd.concat(food_counts, axis=1, sort=True)\n",
    "               .fillna(0).astype(int).T)\n",
    "food_counts.index = pd.Index(filenames, name='filename')"
   ]
  },
  {
   "cell_type": "code",
   "execution_count": null,
   "metadata": {},
   "outputs": [],
   "source": [
    "food_counts.to_csv('ad_file_food_count.csv')"
   ]
  }
 ],
 "metadata": {
  "kernelspec": {
   "display_name": "Python 3",
   "language": "python",
   "name": "python3"
  },
  "language_info": {
   "codemirror_mode": {
    "name": "ipython",
    "version": 3
   },
   "file_extension": ".py",
   "mimetype": "text/x-python",
   "name": "python",
   "nbconvert_exporter": "python",
   "pygments_lexer": "ipython3",
   "version": "3.8.2"
  }
 },
 "nbformat": 4,
 "nbformat_minor": 2
}
