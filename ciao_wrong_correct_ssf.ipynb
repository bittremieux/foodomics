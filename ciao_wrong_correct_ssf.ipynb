{
 "cells": [
  {
   "cell_type": "code",
   "execution_count": null,
   "metadata": {},
   "outputs": [],
   "source": [
    "import itertools\n",
    "\n",
    "import pandas as pd\n",
    "import matplotlib.pyplot as plt\n",
    "import seaborn as sns"
   ]
  },
  {
   "cell_type": "code",
   "execution_count": null,
   "metadata": {},
   "outputs": [],
   "source": [
    "# Plot styling.\n",
    "plt.style.use(['seaborn-white', 'seaborn-paper'])\n",
    "plt.rc('font', family='serif')\n",
    "sns.set_palette('Set1')\n",
    "sns.set_context('paper', font_scale=1.3)    # Single-column figure."
   ]
  },
  {
   "cell_type": "markdown",
   "metadata": {},
   "source": [
    "### GFOP sample type metadata "
   ]
  },
  {
   "cell_type": "code",
   "execution_count": null,
   "metadata": {},
   "outputs": [],
   "source": [
    "def get_sample_types(gfop_metadata, simple_complex=None):\n",
    "    if simple_complex is not None:\n",
    "        gfop_metadata = gfop_metadata[\n",
    "            gfop_metadata['simple_complex'] == simple_complex]\n",
    "    col_sample_types = [f'sample_type_group{i}' for i in range(1, 7)]\n",
    "    return (gfop_metadata[['filename', *col_sample_types]]\n",
    "            .set_index('filename'))"
   ]
  },
  {
   "cell_type": "code",
   "execution_count": null,
   "metadata": {},
   "outputs": [],
   "source": [
    "def get_network_group_sample_type_counts(gnps_network, sample_types,\n",
    "                                         groups_included):\n",
    "    groups = {f'G{i}' for i in range(1, 7)}\n",
    "    groups_excluded = groups - set(groups_included)\n",
    "    df_selected = gnps_network[\n",
    "        (gnps_network[groups_included] > 0).all(axis=1) &\n",
    "        (gnps_network[groups_excluded] == 0).all(axis=1)].copy()\n",
    "    filenames = (df_selected['UniqueFileSources'].str.split('|')\n",
    "                 .explode().unique())\n",
    "    return sample_types.reindex(filenames).value_counts()"
   ]
  },
  {
   "cell_type": "code",
   "execution_count": null,
   "metadata": {},
   "outputs": [],
   "source": [
    "gfop_metadata = pd.read_csv(\n",
    "    '../data/11442_foodomics_multiproject_metadata.txt',\n",
    "    sep='\\t')\n",
    "# First row is empty.\n",
    "gfop_metadata = gfop_metadata.drop(index=0)\n",
    "# Remove trailing whitespace.\n",
    "gfop_metadata = gfop_metadata.apply(lambda col: col.str.strip()\n",
    "                                    if col.dtype == 'object' else col)"
   ]
  },
  {
   "cell_type": "markdown",
   "metadata": {},
   "source": [
    "### CIAO wrong vs correct SSF"
   ]
  },
  {
   "cell_type": "code",
   "execution_count": null,
   "metadata": {},
   "outputs": [],
   "source": [
    "gnps_network_wrong_ssf = pd.read_csv(\n",
    "    '../data/6_25_CIAO Fecal - plasma - ONR food - Foodomics 3500 (no ONR food) FDR 0.01/'\n",
    "    'METABOLOMICS-SNETS-V2-981c9a7d-view_all_clusters_withID_beta-main.tsv',\n",
    "    sep='\\t')\n",
    "gnps_network_correct_ssf = pd.read_csv(\n",
    "    '../data/5_24_CIAO Fecal - plasma - food - Foodomics 3500 (no CIAO food) FDR 0.01/'\n",
    "    'METABOLOMICS-SNETS-V2-8895b6e3-view_all_clusters_withID_beta-main.tsv',\n",
    "    sep='\\t')"
   ]
  },
  {
   "cell_type": "code",
   "execution_count": null,
   "metadata": {},
   "outputs": [],
   "source": [
    "sample_types_simple = (get_sample_types(gfop_metadata, 'simple')\n",
    "                       ['sample_type_group5'])\n",
    "sample_counts_wrong_ssf = (\n",
    "    get_network_group_sample_type_counts(\n",
    "        gnps_network_wrong_ssf, sample_types_simple, ['G2', 'G3', 'G4'])\n",
    "    .rename('CIAO, plasma, wrong SSF'))\n",
    "sample_counts_correct_ssf = (\n",
    "    get_network_group_sample_type_counts(\n",
    "        gnps_network_correct_ssf, sample_types_simple, ['G2', 'G3', 'G4'])\n",
    "    .rename('CIAO, plasma, correct SSF'))"
   ]
  },
  {
   "cell_type": "code",
   "execution_count": null,
   "metadata": {},
   "outputs": [],
   "source": [
    "sample_counts = (pd.concat([sample_counts_wrong_ssf,\n",
    "                            sample_counts_correct_ssf], axis=1, sort=True)\n",
    "                 .dropna().astype(int))"
   ]
  },
  {
   "cell_type": "code",
   "execution_count": null,
   "metadata": {},
   "outputs": [],
   "source": [
    "width = 7\n",
    "height = width / 1.618\n",
    "fig, ax = plt.subplots(figsize=(width, height))\n",
    "\n",
    "(sample_counts.sort_values('CIAO, plasma, wrong SSF', ascending=False)\n",
    " .head(15).plot.bar(ax=ax))\n",
    "\n",
    "ax.set_xlabel('Food type')\n",
    "ax.set_ylabel('Number of occurences')\n",
    "\n",
    "sns.despine()\n",
    "\n",
    "plt.savefig('ciao_wrong_correct_ssf.png', dpi=300, bbox_inches='tight')\n",
    "plt.show()\n",
    "plt.close()"
   ]
  }
 ],
 "metadata": {
  "kernelspec": {
   "display_name": "Python 3",
   "language": "python",
   "name": "python3"
  },
  "language_info": {
   "codemirror_mode": {
    "name": "ipython",
    "version": 3
   },
   "file_extension": ".py",
   "mimetype": "text/x-python",
   "name": "python",
   "nbconvert_exporter": "python",
   "pygments_lexer": "ipython3",
   "version": "3.8.2"
  }
 },
 "nbformat": 4,
 "nbformat_minor": 2
}
