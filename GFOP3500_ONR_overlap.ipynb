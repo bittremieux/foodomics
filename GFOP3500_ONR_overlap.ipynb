{
 "cells": [
  {
   "cell_type": "code",
   "execution_count": 1,
   "metadata": {},
   "outputs": [],
   "source": [
    "import itertools\n",
    "import math\n",
    "\n",
    "import floweaver\n",
    "import numpy as np\n",
    "import pandas as pd\n",
    "import matplotlib.pyplot as plt\n",
    "import seaborn as sns"
   ]
  },
  {
   "cell_type": "code",
   "execution_count": 2,
   "metadata": {},
   "outputs": [],
   "source": [
    "# Plot styling.\n",
    "plt.style.use(['seaborn-white', 'seaborn-paper'])\n",
    "plt.rc('font', family='serif')\n",
    "sns.set_palette('Set1')\n",
    "sns.set_context('paper', font_scale=1.3)    # Single-column figure."
   ]
  },
  {
   "cell_type": "markdown",
   "metadata": {},
   "source": [
    "### GFOP sample type metadata "
   ]
  },
  {
   "cell_type": "code",
   "execution_count": 3,
   "metadata": {},
   "outputs": [],
   "source": [
    "def get_sample_types(gfop_metadata, simple_complex=None):\n",
    "    if simple_complex is not None:\n",
    "        gfop_metadata = gfop_metadata[\n",
    "            gfop_metadata['simple_complex'] == simple_complex]\n",
    "    col_sample_types = [f'sample_type_group{i}' for i in range(1, 7)]\n",
    "    return (gfop_metadata[['filename', *col_sample_types]]\n",
    "            .set_index('filename'))"
   ]
  },
  {
   "cell_type": "code",
   "execution_count": 4,
   "metadata": {},
   "outputs": [],
   "source": [
    "def get_network_group_sample_type_counts(gnps_network, sample_types,\n",
    "                                         groups_included):\n",
    "    groups = {f'G{i}' for i in range(1, 7)}\n",
    "    groups_excluded = groups - set(groups_included)\n",
    "    gnps_network_selected = gnps_network[\n",
    "        (gnps_network[groups_included] > 0).all(axis=1) &\n",
    "        (gnps_network[groups_excluded] == 0).all(axis=1)]\n",
    "    peak_filenames = set(itertools.chain.from_iterable(\n",
    "        gnps_network_selected['UniqueFileSources'].str.split('|')))\n",
    "    return sample_types.reindex(peak_filenames).value_counts()"
   ]
  },
  {
   "cell_type": "code",
   "execution_count": 5,
   "metadata": {},
   "outputs": [],
   "source": [
    "gfop_metadata = pd.read_csv(\n",
    "    '../data/GFOP/11442_foodomics_multiproject_metadata_20200402.txt',\n",
    "    sep='\\t')\n",
    "# First row is empty.\n",
    "gfop_metadata = gfop_metadata.drop(index=0)\n",
    "# Remove trailing whitespace.\n",
    "gfop_metadata = gfop_metadata.apply(lambda col: col.str.strip()\n",
    "                                    if col.dtype == 'object' else col)"
   ]
  },
  {
   "cell_type": "markdown",
   "metadata": {},
   "source": [
    "### ONR sample type difference between fecal and plasma"
   ]
  },
  {
   "cell_type": "code",
   "execution_count": 6,
   "metadata": {},
   "outputs": [],
   "source": [
    "gnps_network_onr = pd.read_csv(\n",
    "    '../data/ONR/METABOLOMICS-SNETS-V2-e0bf255b-view_all_clusters_withID_beta-main.tsv',\n",
    "    sep='\\t')"
   ]
  },
  {
   "cell_type": "code",
   "execution_count": 7,
   "metadata": {},
   "outputs": [],
   "source": [
    "sample_types_simple = (get_sample_types(gfop_metadata, 'simple')\n",
    "                       ['sample_type_group1'])\n",
    "sample_counts_fecal = get_network_group_sample_type_counts(\n",
    "    gnps_network_onr, sample_types_simple, ['G1', 'G4']).rename('fecal')\n",
    "sample_counts_plasma = get_network_group_sample_type_counts(\n",
    "    gnps_network_onr, sample_types_simple, ['G2', 'G4']).rename('plasma')"
   ]
  },
  {
   "cell_type": "code",
   "execution_count": 8,
   "metadata": {},
   "outputs": [],
   "source": [
    "sample_counts_fecal_plasma = pd.concat(\n",
    "    [sample_counts_fecal, sample_counts_plasma], axis=1)"
   ]
  },
  {
   "cell_type": "code",
   "execution_count": 9,
   "metadata": {},
   "outputs": [
    {
     "data": {
      "text/html": [
       "<div>\n",
       "<style scoped>\n",
       "    .dataframe tbody tr th:only-of-type {\n",
       "        vertical-align: middle;\n",
       "    }\n",
       "\n",
       "    .dataframe tbody tr th {\n",
       "        vertical-align: top;\n",
       "    }\n",
       "\n",
       "    .dataframe thead th {\n",
       "        text-align: right;\n",
       "    }\n",
       "</style>\n",
       "<table border=\"1\" class=\"dataframe\">\n",
       "  <thead>\n",
       "    <tr style=\"text-align: right;\">\n",
       "      <th></th>\n",
       "      <th>fecal</th>\n",
       "      <th>plasma</th>\n",
       "    </tr>\n",
       "  </thead>\n",
       "  <tbody>\n",
       "    <tr>\n",
       "      <th>plant</th>\n",
       "      <td>1068</td>\n",
       "      <td>1213</td>\n",
       "    </tr>\n",
       "    <tr>\n",
       "      <th>animal</th>\n",
       "      <td>306</td>\n",
       "      <td>334</td>\n",
       "    </tr>\n",
       "    <tr>\n",
       "      <th>fungi</th>\n",
       "      <td>14</td>\n",
       "      <td>14</td>\n",
       "    </tr>\n",
       "    <tr>\n",
       "      <th>algae</th>\n",
       "      <td>8</td>\n",
       "      <td>8</td>\n",
       "    </tr>\n",
       "    <tr>\n",
       "      <th>water</th>\n",
       "      <td>4</td>\n",
       "      <td>14</td>\n",
       "    </tr>\n",
       "    <tr>\n",
       "      <th>mineral</th>\n",
       "      <td>2</td>\n",
       "      <td>5</td>\n",
       "    </tr>\n",
       "  </tbody>\n",
       "</table>\n",
       "</div>"
      ],
      "text/plain": [
       "         fecal  plasma\n",
       "plant     1068    1213\n",
       "animal     306     334\n",
       "fungi       14      14\n",
       "algae        8       8\n",
       "water        4      14\n",
       "mineral      2       5"
      ]
     },
     "execution_count": 9,
     "metadata": {},
     "output_type": "execute_result"
    }
   ],
   "source": [
    "sample_counts_fecal_plasma"
   ]
  },
  {
   "cell_type": "code",
   "execution_count": 10,
   "metadata": {},
   "outputs": [
    {
     "data": {
      "image/png": "[encoded data removed]",
      "text/plain": [
       "<Figure size 504x311.496 with 1 Axes>"
      ]
     },
     "metadata": {},
     "output_type": "display_data"
    }
   ],
   "source": [
    "width = 7\n",
    "height = width / 1.618\n",
    "fig, ax = plt.subplots(figsize=(width, height))\n",
    "\n",
    "sample_counts_fecal_plasma.plot.bar(ax=ax)\n",
    "\n",
    "ax.set_xlabel('Food type')\n",
    "ax.set_ylabel('Number of occurences')\n",
    "\n",
    "sns.despine()\n",
    "\n",
    "plt.show()\n",
    "plt.close()"
   ]
  },
  {
   "cell_type": "markdown",
   "metadata": {},
   "source": [
    "### Food type at different metadata levels"
   ]
  },
  {
   "cell_type": "code",
   "execution_count": 11,
   "metadata": {},
   "outputs": [],
   "source": [
    "sample_type_hierarchy = (\n",
    "    pd.read_csv('../data/GFOP/sample_type_hierarchy.csv')\n",
    "    .set_index('descriptor').sort_values('order_num'))"
   ]
  },
  {
   "cell_type": "code",
   "execution_count": 12,
   "metadata": {},
   "outputs": [],
   "source": [
    "gnps_network_ibd = pd.read_csv(\n",
    "    '../data/IBD seed/METABOLOMICS-SNETS-V2-907f2e0b-'\n",
    "    'view_all_clusters_withID_beta-main.tsv', sep='\\t')"
   ]
  },
  {
   "cell_type": "code",
   "execution_count": 13,
   "metadata": {},
   "outputs": [],
   "source": [
    "def get_flows(gnps_network, sample_types, groups_included):\n",
    "    groups = {f'G{i}' for i in range(1, 7)}\n",
    "    groups_excluded = groups - set(groups_included)\n",
    "    df_selected = gnps_network[\n",
    "        (gnps_network[groups_included] > 0).all(axis=1) &\n",
    "        (gnps_network[groups_excluded] == 0).all(axis=1)].copy()\n",
    "    filenames = gnps_network['UniqueFileSources'].str.split('|').explode()\n",
    "    idx = filenames.index\n",
    "    sample_types_selected = sample_types.reindex(filenames)\n",
    "    sample_types_selected['value'] = idx\n",
    "    sample_types_selected = sample_types_selected.fillna('unmatched')\n",
    "    flows, processes = [], []\n",
    "    for i in range(1, 6):\n",
    "        g1, g2 = f'sample_type_group{i}', f'sample_type_group{i + 1}'\n",
    "        if (g1 in sample_types_selected.columns and\n",
    "                g2 in sample_types_selected.columns):\n",
    "            flow = (sample_types_selected.groupby([g1, g2])['value']\n",
    "                    .size().reset_index()\n",
    "                    .rename(columns={g1: 'source', g2: 'target'}))\n",
    "            flow['source'] = flow['source'] + f'_{i}'\n",
    "            flow['target'] = flow['target'] + f'_{i + 1}'\n",
    "            flow['type'] = flow['source']\n",
    "            flows.append(flow)\n",
    "            process = pd.concat([flow['source'], flow['target']],\n",
    "                                ignore_index=True).to_frame()\n",
    "            process['level'] = [*np.repeat(i, len(flow['source'])),\n",
    "                                *np.repeat(i + 1, len(flow['target']))]\n",
    "            processes.append(process)\n",
    "    return (pd.concat(flows, ignore_index=True),\n",
    "            pd.concat(processes, ignore_index=True).drop_duplicates()\n",
    "            .rename(columns={0: 'id'}).set_index('id'))"
   ]
  },
  {
   "cell_type": "code",
   "execution_count": 14,
   "metadata": {},
   "outputs": [
    {
     "data": {
      "application/vnd.jupyter.widget-view+json": {
       "model_id": "186371f018a04ba8b81294882dbdb4cf",
       "version_major": 2,
       "version_minor": 0
      },
      "text/plain": [
       "SankeyWidget(groups=[{'id': 'level 1', 'type': 'process', 'title': '', 'nodes': ['level 1^unmatched_1', 'level…"
      ]
     },
     "metadata": {},
     "output_type": "display_data"
    }
   ],
   "source": [
    "max_group = 5\n",
    "samples_types_levels = get_sample_types(gfop_metadata, True)[\n",
    "    [f'sample_type_group{i}' for i in range(1, max_group + 1)]]\n",
    "flows, processes = get_flows(\n",
    "    gnps_network_ibd, samples_types_levels, ['G1', 'G4'])\n",
    "dataset = floweaver.Dataset(flows, dim_process=processes)\n",
    "\n",
    "labels = (sample_type_hierarchy\n",
    "          .reindex(set(flows['source']) | set(flows['target']))\n",
    "          .sort_values('order_num').index)\n",
    "nodes, ordering, bundles = {}, [], []\n",
    "for level in processes['level'].unique():\n",
    "    nodes[f'level {level}'] = floweaver.ProcessGroup(f'level == {level}')\n",
    "    nodes[f'level {level}'].partition = floweaver.Partition.Simple(\n",
    "        'process', labels[labels.str.endswith(f'_{level}')][::-1])\n",
    "    \n",
    "    ordering.append([f'level {level}'])\n",
    "    \n",
    "    if level + 1 in processes['level'].unique():\n",
    "        bundles.append(floweaver.Bundle(f'level {level}',\n",
    "                                        f'level {level + 1}'))\n",
    "\n",
    "sdd = floweaver.SankeyDefinition(\n",
    "    nodes, bundles, ordering, flow_partition=dataset.partition('type'))\n",
    "palette = sample_type_hierarchy['color_code'].to_dict()\n",
    "(floweaver.weave(sdd, dataset, palette=palette)\n",
    " .to_widget(width=4000, height=12000).auto_save_png('flow.png'))"
   ]
  }
 ],
 "metadata": {
  "kernelspec": {
   "display_name": "Python 3",
   "language": "python",
   "name": "python3"
  },
  "language_info": {
   "codemirror_mode": {
    "name": "ipython",
    "version": 3
   },
   "file_extension": ".py",
   "mimetype": "text/x-python",
   "name": "python",
   "nbconvert_exporter": "python",
   "pygments_lexer": "ipython3",
   "version": "3.8.2"
  }
 },
 "nbformat": 4,
 "nbformat_minor": 2
}
