{
 "cells": [
  {
   "cell_type": "code",
   "execution_count": null,
   "metadata": {},
   "outputs": [],
   "source": [
    "import itertools\n",
    "import math\n",
    "\n",
    "import floweaver\n",
    "import numpy as np\n",
    "import pandas as pd\n",
    "import matplotlib.pyplot as plt\n",
    "import seaborn as sns"
   ]
  },
  {
   "cell_type": "code",
   "execution_count": null,
   "metadata": {},
   "outputs": [],
   "source": [
    "# Plot styling.\n",
    "plt.style.use(['seaborn-white', 'seaborn-paper'])\n",
    "plt.rc('font', family='serif')\n",
    "sns.set_palette('Set1')\n",
    "sns.set_context('paper', font_scale=1.3)    # Single-column figure."
   ]
  },
  {
   "cell_type": "markdown",
   "metadata": {},
   "source": [
    "### GFOP sample type metadata "
   ]
  },
  {
   "cell_type": "code",
   "execution_count": null,
   "metadata": {},
   "outputs": [],
   "source": [
    "def get_sample_types(gfop_metadata, simple_complex=None):\n",
    "    if simple_complex is not None:\n",
    "        gfop_metadata = gfop_metadata[\n",
    "            gfop_metadata['simple_complex'] == simple_complex]\n",
    "    col_sample_types = [f'sample_type_group{i}' for i in range(1, 7)]\n",
    "    return (gfop_metadata[['filename', *col_sample_types]]\n",
    "            .set_index('filename'))"
   ]
  },
  {
   "cell_type": "code",
   "execution_count": null,
   "metadata": {},
   "outputs": [],
   "source": [
    "def get_network_group_sample_type_counts(gnps_network, sample_types,\n",
    "                                         groups_included):\n",
    "    groups = {f'G{i}' for i in range(1, 7)}\n",
    "    groups_excluded = groups - set(groups_included)\n",
    "    gnps_network_selected = gnps_network[\n",
    "        (gnps_network[groups_included] > 0).all(axis=1) &\n",
    "        (gnps_network[groups_excluded] == 0).all(axis=1)]\n",
    "    peak_filenames = set(itertools.chain.from_iterable(\n",
    "        gnps_network_selected['UniqueFileSources'].str.split('|')))\n",
    "    return sample_types.reindex(peak_filenames).value_counts()"
   ]
  },
  {
   "cell_type": "code",
   "execution_count": null,
   "metadata": {},
   "outputs": [],
   "source": [
    "gfop_metadata = pd.read_csv(\n",
    "    '../data/GFOP/11442_foodomics_multiproject_metadata.txt',\n",
    "    sep='\\t')\n",
    "# First row is empty.\n",
    "gfop_metadata = gfop_metadata.drop(index=0)\n",
    "# Remove trailing whitespace.\n",
    "gfop_metadata = gfop_metadata.apply(lambda col: col.str.strip()\n",
    "                                    if col.dtype == 'object' else col)"
   ]
  },
  {
   "cell_type": "markdown",
   "metadata": {},
   "source": [
    "### ONR sample type difference between fecal and plasma"
   ]
  },
  {
   "cell_type": "code",
   "execution_count": null,
   "metadata": {},
   "outputs": [],
   "source": [
    "gnps_network_onr = pd.read_csv(\n",
    "    '../data/ONR/METABOLOMICS-SNETS-V2-e0bf255b-view_all_clusters_withID_beta-main.tsv',\n",
    "    sep='\\t')"
   ]
  },
  {
   "cell_type": "code",
   "execution_count": null,
   "metadata": {},
   "outputs": [],
   "source": [
    "sample_types_simple = (get_sample_types(gfop_metadata, 'simple')\n",
    "                       ['sample_type_group1'])\n",
    "sample_counts_fecal = get_network_group_sample_type_counts(\n",
    "    gnps_network_onr, sample_types_simple, ['G1', 'G4']).rename('fecal')\n",
    "sample_counts_plasma = get_network_group_sample_type_counts(\n",
    "    gnps_network_onr, sample_types_simple, ['G2', 'G4']).rename('plasma')"
   ]
  },
  {
   "cell_type": "code",
   "execution_count": null,
   "metadata": {},
   "outputs": [],
   "source": [
    "sample_counts_fecal_plasma = pd.concat(\n",
    "    [sample_counts_fecal, sample_counts_plasma], axis=1)"
   ]
  },
  {
   "cell_type": "code",
   "execution_count": null,
   "metadata": {},
   "outputs": [],
   "source": [
    "sample_counts_fecal_plasma"
   ]
  },
  {
   "cell_type": "code",
   "execution_count": null,
   "metadata": {},
   "outputs": [],
   "source": [
    "width = 7\n",
    "height = width / 1.618\n",
    "fig, ax = plt.subplots(figsize=(width, height))\n",
    "\n",
    "sample_counts_fecal_plasma.plot.bar(ax=ax)\n",
    "\n",
    "ax.set_xlabel('Food type')\n",
    "ax.set_ylabel('Number of occurences')\n",
    "\n",
    "sns.despine()\n",
    "\n",
    "plt.show()\n",
    "plt.close()"
   ]
  },
  {
   "cell_type": "markdown",
   "metadata": {},
   "source": [
    "### Food type at different metadata levels"
   ]
  },
  {
   "cell_type": "code",
   "execution_count": null,
   "metadata": {},
   "outputs": [],
   "source": [
    "def _get_flows(gnps_network, sample_types, groups_included,\n",
    "               max_hierarchy_level):\n",
    "    # Select GNPS job groups.\n",
    "    groups = {f'G{i}' for i in range(1, 7)}\n",
    "    groups_excluded = groups - set(groups_included)\n",
    "    df_selected = gnps_network[\n",
    "        (gnps_network[groups_included] > 0).all(axis=1) &\n",
    "        (gnps_network[groups_excluded] == 0).all(axis=1)].copy()\n",
    "    filenames = df_selected['UniqueFileSources'].str.split('|').explode()\n",
    "    # Select food hierarchy levels.\n",
    "    sample_types = sample_types[[\n",
    "        f'sample_type_group{i}' for i in range(1, max_hierarchy_level + 1)]]\n",
    "    # Match the GNPS job results to the food sample types.\n",
    "    idx = filenames.index\n",
    "    sample_types_selected = sample_types.reindex(filenames)\n",
    "    sample_types_selected['value'] = idx\n",
    "    sample_types_selected = sample_types_selected.fillna('unmatched')\n",
    "    # Discard samples that occur less frequent than water (blank).\n",
    "    water_count = ((sample_types_selected['sample_type_group1'] == 'water')\n",
    "                   .sum())\n",
    "    sample_counts = sample_types_selected[\n",
    "        f'sample_type_group{max_hierarchy_level}'].value_counts()\n",
    "    sample_counts_valid = sample_counts.index[sample_counts > water_count]\n",
    "    sample_types_selected = sample_types_selected[sample_types_selected[\n",
    "        f'sample_type_group{max_hierarchy_level}'].isin(sample_counts_valid)]\n",
    "    # Get the flows between consecutive food hierarchy levels.\n",
    "    flows, processes = [], []\n",
    "    for i in range(1, max_hierarchy_level):\n",
    "        g1, g2 = f'sample_type_group{i}', f'sample_type_group{i + 1}'\n",
    "        flow = (sample_types_selected.groupby([g1, g2])['value'].size()\n",
    "                .reset_index().rename(columns={g1: 'source', g2: 'target'}))\n",
    "        flow['source'] = flow['source'] + f'_{i}'\n",
    "        flow['target'] = flow['target'] + f'_{i + 1}'\n",
    "        flow['type'] = flow['target']\n",
    "        flows.append(flow)\n",
    "        process = pd.concat([flow['source'], flow['target']],\n",
    "                            ignore_index=True).to_frame()\n",
    "        process['level'] = [*np.repeat(i, len(flow['source'])),\n",
    "                            *np.repeat(i + 1, len(flow['target']))]\n",
    "        processes.append(process)\n",
    "    return (pd.concat(flows, ignore_index=True),\n",
    "            pd.concat(processes, ignore_index=True).drop_duplicates()\n",
    "            .rename(columns={0: 'id'}).set_index('id'))"
   ]
  },
  {
   "cell_type": "code",
   "execution_count": null,
   "metadata": {},
   "outputs": [],
   "source": [
    "def plot_flows(gnps_network, sample_types, groups_included,\n",
    "               sample_type_hierarchy, max_hierarchy_level=4, filename=None):\n",
    "    flows, processes = _get_flows(\n",
    "        gnps_network, sample_types, groups_included, max_hierarchy_level)\n",
    "    dataset = floweaver.Dataset(flows, dim_process=processes)\n",
    "\n",
    "    labels = (sample_type_hierarchy\n",
    "              .reindex(set(flows['source']) | set(flows['target']))\n",
    "              .sort_values('order_num').index)\n",
    "    nodes, ordering, bundles = {}, [], []\n",
    "    for level in processes['level'].unique():\n",
    "        nodes[f'level {level}'] = floweaver.ProcessGroup(f'level == {level}')\n",
    "        nodes[f'level {level}'].partition = floweaver.Partition.Simple(\n",
    "            'process', labels[labels.str.endswith(f'_{level}')][::-1])\n",
    "\n",
    "        ordering.append([f'level {level}'])\n",
    "\n",
    "        if level + 1 in processes['level'].unique():\n",
    "            bundles.append(floweaver.Bundle(f'level {level}',\n",
    "                                            f'level {level + 1}'))\n",
    "\n",
    "    sdd = floweaver.SankeyDefinition(\n",
    "        nodes, bundles, ordering, flow_partition=dataset.partition('type'))\n",
    "    palette = sample_type_hierarchy['color_code'].dropna().to_dict()\n",
    "    return floweaver.weave(sdd, dataset, palette=palette)"
   ]
  },
  {
   "cell_type": "code",
   "execution_count": null,
   "metadata": {},
   "outputs": [],
   "source": [
    "sample_types_simple = get_sample_types(gfop_metadata, 'simple')\n",
    "sample_types_complex = get_sample_types(gfop_metadata, 'complex')"
   ]
  },
  {
   "cell_type": "code",
   "execution_count": null,
   "metadata": {},
   "outputs": [],
   "source": [
    "sample_type_hierarchy = (\n",
    "    pd.read_csv('../data/GFOP/sample_type_hierarchy.csv')\n",
    "    .set_index('descriptor').sort_values('order_num'))"
   ]
  },
  {
   "cell_type": "code",
   "execution_count": null,
   "metadata": {},
   "outputs": [],
   "source": [
    "gnps_network_ibd = pd.read_csv(\n",
    "    '../data/IBD seed/METABOLOMICS-SNETS-V2-907f2e0b-'\n",
    "    'view_all_clusters_withID_beta-main.tsv', sep='\\t')\n",
    "gnps_network_legume = pd.read_csv(\n",
    "    '../data/legume/METABOLOMICS-SNETS-V2-93ba727a-'\n",
    "    'view_all_clusters_withID_beta-main.tsv', sep='\\t')\n",
    "gnps_network_onr = pd.read_csv(\n",
    "    '../data/ONR/METABOLOMICS-SNETS-V2-9a90bd12-'\n",
    "    'view_all_clusters_withID_beta-main.tsv', sep='\\t')\n",
    "gnps_network_ad = pd.read_csv(\n",
    "    '../data/AD/METABOLOMICS-SNETS-V2-aac78e9d-'\n",
    "    'view_all_clusters_withID_beta-main.tsv', sep='\\t')\n",
    "gnps_network_ra = pd.read_csv(\n",
    "    '../data/RA/METABOLOMICS-SNETS-V2-0794151f-'\n",
    "    'view_all_clusters_withID_beta-main.tsv', sep='\\t')"
   ]
  },
  {
   "cell_type": "code",
   "execution_count": null,
   "metadata": {},
   "outputs": [],
   "source": [
    "groups = ['G1', 'G4']\n",
    "max_level = 3\n",
    "sankey_data = plot_flows(gnps_network_ibd, sample_types_simple, groups,\n",
    "                         sample_type_hierarchy, max_level)\n",
    "(sankey_data.to_widget(width=600, height=600)\n",
    " .auto_save_png('flow_simple.png'))"
   ]
  }
 ],
 "metadata": {
  "kernelspec": {
   "display_name": "Python 3",
   "language": "python",
   "name": "python3"
  },
  "language_info": {
   "codemirror_mode": {
    "name": "ipython",
    "version": 3
   },
   "file_extension": ".py",
   "mimetype": "text/x-python",
   "name": "python",
   "nbconvert_exporter": "python",
   "pygments_lexer": "ipython3",
   "version": "3.8.2"
  }
 },
 "nbformat": 4,
 "nbformat_minor": 2
}
