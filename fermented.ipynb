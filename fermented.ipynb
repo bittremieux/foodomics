{
 "cells": [
  {
   "cell_type": "code",
   "execution_count": null,
   "metadata": {},
   "outputs": [],
   "source": [
    "import os\n",
    "import re\n",
    "\n",
    "import numpy as np\n",
    "import matplotlib.pyplot as plt\n",
    "import matplotlib.ticker as mticker\n",
    "import pandas as pd\n",
    "import seaborn as sns"
   ]
  },
  {
   "cell_type": "code",
   "execution_count": null,
   "metadata": {},
   "outputs": [],
   "source": [
    "# Plot styling.\n",
    "plt.style.use(['seaborn-white', 'seaborn-paper'])\n",
    "plt.rc('font', family='serif')\n",
    "sns.set_palette('Set1')\n",
    "sns.set_context('paper', font_scale=1.3)    # Single-column figure."
   ]
  },
  {
   "cell_type": "markdown",
   "metadata": {},
   "source": [
    "### GFOP sample type metadata "
   ]
  },
  {
   "cell_type": "code",
   "execution_count": null,
   "metadata": {},
   "outputs": [],
   "source": [
    "def get_sample_fermented_status(gfop_metadata, simple_complex=None):\n",
    "    if simple_complex is not None:\n",
    "        gfop_metadata = gfop_metadata[\n",
    "            gfop_metadata['simple_complex'] == simple_complex]\n",
    "    return gfop_metadata[['filename', 'fermented']].set_index('filename')"
   ]
  },
  {
   "cell_type": "code",
   "execution_count": null,
   "metadata": {},
   "outputs": [],
   "source": [
    "def get_network_group_fermented_count(\n",
    "        gnps_network, fermented_status, groups_included):\n",
    "    groups = {f'G{i}' for i in range(1, 7)}\n",
    "    groups_excluded = groups - set(groups_included)\n",
    "    df_selected = gnps_network[\n",
    "        (gnps_network[groups_included] > 0).all(axis=1) &\n",
    "        (gnps_network[groups_excluded] == 0).all(axis=1)].copy()\n",
    "    filenames = df_selected['UniqueFileSources'].str.split('|').explode()\n",
    "    # Match the GNPS job results to the fermented status and get counts.\n",
    "    fermented = fermented_status.reindex(filenames).fillna('unmatched')\n",
    "    return fermented.squeeze().value_counts() / len(fermented)"
   ]
  },
  {
   "cell_type": "code",
   "execution_count": null,
   "metadata": {},
   "outputs": [],
   "source": [
    "gfop_metadata = pd.read_csv(\n",
    "    '../data/11442_foodomics_multiproject_metadata.txt', sep='\\t')\n",
    "# First row is empty.\n",
    "gfop_metadata = gfop_metadata.drop(index=0)\n",
    "# Remove trailing whitespace.\n",
    "gfop_metadata = gfop_metadata.apply(lambda col: col.str.strip()\n",
    "                                    if col.dtype == 'object' else col)"
   ]
  },
  {
   "cell_type": "markdown",
   "metadata": {},
   "source": [
    "### Compare fermented vs. non-fermented"
   ]
  },
  {
   "cell_type": "code",
   "execution_count": null,
   "metadata": {},
   "outputs": [],
   "source": [
    "sample_fermented_status = get_sample_fermented_status(\n",
    "    gfop_metadata, 'simple')"
   ]
  },
  {
   "cell_type": "code",
   "execution_count": null,
   "metadata": {},
   "outputs": [],
   "source": [
    "fermented_all = pd.read_csv(\n",
    "    '../data/37_Danone - all - split - FoodOmics 3500 FDR 0.1/'\n",
    "    'METABOLOMICS-SNETS-V2-602ba94c-view_all_clusters_withID_beta-main.tsv',\n",
    "    sep='\\t')\n",
    "fermented_strict = pd.read_csv(\n",
    "    '../data/38_Danone - ferment strict - nonferment strict - FoodOmics 3500 FDR 0.1/'\n",
    "    'METABOLOMICS-SNETS-V2-0aaa25a8-view_all_clusters_withID_beta-main.tsv',\n",
    "    sep='\\t')"
   ]
  },
  {
   "cell_type": "code",
   "execution_count": null,
   "metadata": {},
   "outputs": [],
   "source": [
    "fermented = pd.DataFrame({\n",
    "    'All G1G4': get_network_group_fermented_count(\n",
    "        fermented_all, sample_fermented_status, ['G1', 'G4']),\n",
    "    'All G2G4': get_network_group_fermented_count(\n",
    "        fermented_all, sample_fermented_status, ['G2', 'G4']),\n",
    "    'Strict G1G4': get_network_group_fermented_count(\n",
    "        fermented_strict, sample_fermented_status, ['G1', 'G4']),\n",
    "    'Strict G2G4': get_network_group_fermented_count(\n",
    "        fermented_strict, sample_fermented_status, ['G2', 'G4'])})\n",
    "fermented = fermented.loc[['yes', 'no', 'unmatched']]"
   ]
  },
  {
   "cell_type": "code",
   "execution_count": null,
   "metadata": {},
   "outputs": [],
   "source": [
    "fermented"
   ]
  },
  {
   "cell_type": "code",
   "execution_count": null,
   "metadata": {},
   "outputs": [],
   "source": [
    "width = 7\n",
    "height = width / 1.618\n",
    "fig, ax = plt.subplots(figsize=(width, height))\n",
    "\n",
    "fermented.plot.bar(ax=ax)\n",
    "\n",
    "ax.yaxis.set_major_formatter(mticker.PercentFormatter(xmax=1))\n",
    "ax.xaxis.set_tick_params(rotation=0)\n",
    "\n",
    "ax.set_xlabel('Fermented status')\n",
    "ax.set_ylabel('Observed foods')\n",
    "\n",
    "ax.legend(loc='upper left')\n",
    "\n",
    "sns.despine()\n",
    "\n",
    "plt.savefig('fermented.png', dpi=300, bbox_inches='tight')\n",
    "plt.show()\n",
    "plt.close()"
   ]
  }
 ],
 "metadata": {
  "kernelspec": {
   "display_name": "Python 3",
   "language": "python",
   "name": "python3"
  },
  "language_info": {
   "codemirror_mode": {
    "name": "ipython",
    "version": 3
   },
   "file_extension": ".py",
   "mimetype": "text/x-python",
   "name": "python",
   "nbconvert_exporter": "python",
   "pygments_lexer": "ipython3",
   "version": "3.8.2"
  }
 },
 "nbformat": 4,
 "nbformat_minor": 4
}
