{
 "cells": [
  {
   "cell_type": "code",
   "execution_count": null,
   "metadata": {},
   "outputs": [],
   "source": [
    "import pandas as pd"
   ]
  },
  {
   "cell_type": "code",
   "execution_count": null,
   "metadata": {},
   "outputs": [],
   "source": [
    "filenames = (pd.read_csv('../data/photo_filenames.txt', sep='\\t', header=None)\n",
    "             .rename(columns={0: 'filename'}))"
   ]
  },
  {
   "cell_type": "code",
   "execution_count": null,
   "metadata": {},
   "outputs": [],
   "source": [
    "filenames['barcode'] = filenames['filename'].str.extract(\n",
    "    '([BG]\\d{5})', expand=False).str[1:]\n",
    "filenames = filenames.dropna()"
   ]
  },
  {
   "cell_type": "code",
   "execution_count": null,
   "metadata": {},
   "outputs": [],
   "source": [
    "metadata = pd.read_csv('../data/11442_foodomics_multiproject_metadata.txt', sep='\\t')"
   ]
  },
  {
   "cell_type": "code",
   "execution_count": null,
   "metadata": {},
   "outputs": [],
   "source": [
    "barcodes = (filenames['barcode'].value_counts().to_frame()\n",
    "            .reset_index().sort_values('index')\n",
    "            .rename(columns={'index': 'barcode', 'barcode': 'count'}))\n",
    "barcodes.to_csv('barcodes.csv', index=False)"
   ]
  },
  {
   "cell_type": "code",
   "execution_count": null,
   "metadata": {},
   "outputs": [],
   "source": [
    "metadata['has_barcode'] = metadata['barcode_number'].isin(barcodes['barcode'])"
   ]
  },
  {
   "cell_type": "code",
   "execution_count": null,
   "metadata": {},
   "outputs": [],
   "source": [
    "metadata.to_csv('11442_foodomics_multiproject_metadata_barcode.txt',\n",
    "                sep='\\t', index=False)"
   ]
  },
  {
   "cell_type": "code",
   "execution_count": null,
   "metadata": {},
   "outputs": [],
   "source": [
    "barcodes_unmatched = barcodes['barcode'][~barcodes['barcode']\n",
    "                     .isin(metadata['barcode_number'])]\n",
    "filenames[filenames['barcode'].isin(barcodes_unmatched)].to_csv(\n",
    "    'barcodes_not_in_metadata.csv', index=False)"
   ]
  }
 ],
 "metadata": {
  "kernelspec": {
   "display_name": "Python 3",
   "language": "python",
   "name": "python3"
  },
  "language_info": {
   "codemirror_mode": {
    "name": "ipython",
    "version": 3
   },
   "file_extension": ".py",
   "mimetype": "text/x-python",
   "name": "python",
   "nbconvert_exporter": "python",
   "pygments_lexer": "ipython3",
   "version": "3.8.2"
  }
 },
 "nbformat": 4,
 "nbformat_minor": 4
}
