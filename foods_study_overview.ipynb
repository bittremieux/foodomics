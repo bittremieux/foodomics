{
 "cells": [
  {
   "cell_type": "code",
   "execution_count": null,
   "metadata": {},
   "outputs": [],
   "source": [
    "import os\n",
    "import re\n",
    "\n",
    "import numpy as np\n",
    "import matplotlib.pyplot as plt\n",
    "import matplotlib.ticker as mticker\n",
    "import pandas as pd\n",
    "import seaborn as sns"
   ]
  },
  {
   "cell_type": "code",
   "execution_count": null,
   "metadata": {},
   "outputs": [],
   "source": [
    "# Plot styling.\n",
    "plt.style.use(['seaborn-white', 'seaborn-paper'])\n",
    "plt.rc('font', family='serif')\n",
    "sns.set_palette('tab20')\n",
    "sns.set_context('paper', font_scale=1.3)    # Single-column figure."
   ]
  },
  {
   "cell_type": "markdown",
   "metadata": {},
   "source": [
    "## Functions"
   ]
  },
  {
   "cell_type": "code",
   "execution_count": null,
   "metadata": {},
   "outputs": [],
   "source": [
    "def get_sample_types(gfop_metadata, sample_type, simple_complex=None):\n",
    "    if simple_complex is not None:\n",
    "        gfop_metadata = gfop_metadata[\n",
    "            gfop_metadata['simple_complex'] == simple_complex]\n",
    "    return gfop_metadata[['filename', sample_type]].set_index('filename')"
   ]
  },
  {
   "cell_type": "code",
   "execution_count": null,
   "metadata": {},
   "outputs": [],
   "source": [
    "def get_network_group_sample_type_counts(\n",
    "        gnps_network, sample_types, groups_included):\n",
    "    groups = {f'G{i}' for i in range(1, 7)}\n",
    "    groups_excluded = groups - set(groups_included)\n",
    "    df_selected = gnps_network[\n",
    "        (gnps_network[groups_included] > 0).all(axis=1) &\n",
    "        (gnps_network[groups_excluded] == 0).all(axis=1)].copy()\n",
    "    filenames = df_selected['UniqueFileSources'].str.split('|').explode()\n",
    "    # Match the GNPS job results to the sample types and get counts.\n",
    "    return (sample_types.reindex(filenames).fillna('unmatched')\n",
    "            .squeeze().value_counts())"
   ]
  },
  {
   "cell_type": "code",
   "execution_count": null,
   "metadata": {},
   "outputs": [],
   "source": [
    "re_prefix = re.compile('^([\\d+_]+)_.*$')\n",
    "\n",
    "def get_dataset_sample_type_counts(data_dir, datasets, sample_types):\n",
    "    counts = []\n",
    "    for dataset in os.listdir(data_dir):\n",
    "        dataset_dir = os.path.join(data_dir, dataset)\n",
    "        prefix = re_prefix.findall(os.path.basename(dataset_dir))\n",
    "        if os.path.isdir(dataset_dir) and len(prefix) > 0:\n",
    "            num = set([int(n) for n in prefix[0].split('_')])\n",
    "            for n in (folder_num_included & num):\n",
    "                for filename in os.listdir(dataset_dir):\n",
    "                    if filename.startswith('METABOLOMICS-SNETS-V2-'):\n",
    "                        gnps_network = pd.read_csv(\n",
    "                            os.path.join(dataset_dir, filename), sep='\\t')\n",
    "                        groups = (['G3', 'G4']\n",
    "                                  if (gnps_network['G3'] > 0).any()\n",
    "                                  else ['G4'])\n",
    "                        groups.append(datasets.loc[n, 'Group_human'])\n",
    "                        counts.append(\n",
    "                            get_network_group_sample_type_counts(\n",
    "                                gnps_network, sample_types, groups)\n",
    "                            .rename(datasets.loc[n, 'study_acronym']))\n",
    "                        break\n",
    "    counts = pd.concat(counts, axis=1).fillna(0).astype(int).T\n",
    "    study_order = (datasets.dropna(subset=['study_acronym'])\n",
    "                   .set_index('study_acronym')\n",
    "                   .reindex(counts.index).reset_index()\n",
    "                   .sort_values(['sample_specific', 'dataset_short', 'index'],\n",
    "                                'index'))\n",
    "    return counts.reindex(study_order['index'].rename('study'))"
   ]
  },
  {
   "cell_type": "code",
   "execution_count": null,
   "metadata": {},
   "outputs": [],
   "source": [
    "def plot_stacked_bar(df, filename):\n",
    "    width = 14\n",
    "    height = width / 1.618\n",
    "    fig, ax = plt.subplots(figsize=(width, height))\n",
    "\n",
    "    df.plot.bar(ax=ax, stacked=True)\n",
    "\n",
    "    ax.yaxis.set_major_formatter(\n",
    "        mticker.FuncFormatter(lambda x, p: format(int(x), ',')))\n",
    "\n",
    "    ax.set_xlabel('Study')\n",
    "    ax.set_ylabel('Number of MS/MS spectra')\n",
    "\n",
    "    ax.legend(loc='center left', bbox_to_anchor=(1.05, 0.5), ncol=2)\n",
    "\n",
    "    sns.despine()\n",
    "\n",
    "    plt.savefig(filename, dpi=300, bbox_inches='tight')\n",
    "    plt.show()\n",
    "    plt.close()"
   ]
  },
  {
   "cell_type": "markdown",
   "metadata": {},
   "source": [
    "## GFOP sample type metadata "
   ]
  },
  {
   "cell_type": "code",
   "execution_count": null,
   "metadata": {},
   "outputs": [],
   "source": [
    "gfop_metadata = pd.read_csv(\n",
    "    '../data/11442_foodomics_multiproject_metadata.txt', sep='\\t')\n",
    "# First row is empty.\n",
    "gfop_metadata = gfop_metadata.drop(index=0)\n",
    "# Remove trailing whitespace.\n",
    "gfop_metadata = gfop_metadata.apply(lambda col: col.str.strip()\n",
    "                                    if col.dtype == 'object' else col)"
   ]
  },
  {
   "cell_type": "markdown",
   "metadata": {},
   "source": [
    "## Datasets included"
   ]
  },
  {
   "cell_type": "code",
   "execution_count": null,
   "metadata": {},
   "outputs": [],
   "source": [
    "folder_num_included = set(range(2, 34)) | set([40])\n",
    "for n in [4, 6, 23, 25]:\n",
    "    folder_num_included.discard(n)\n",
    "data_dir = '../data'"
   ]
  },
  {
   "cell_type": "code",
   "execution_count": null,
   "metadata": {},
   "outputs": [],
   "source": [
    "datasets = (pd.read_csv('../data/foods_study_overview.csv')\n",
    "            .dropna(subset=['folder_num', 'study_num']))\n",
    "datasets['folder_num'] = datasets['folder_num'].astype(int)\n",
    "datasets['study_num'] = datasets['study_num'].astype(int)\n",
    "datasets = datasets.set_index('folder_num')"
   ]
  },
  {
   "cell_type": "code",
   "execution_count": null,
   "metadata": {},
   "outputs": [],
   "source": [
    "sample_type_hierarchy = (\n",
    "    pd.read_csv('../data/sample_type_hierarchy.csv')\n",
    "    .set_index('descriptor').sort_values('order_num'))"
   ]
  },
  {
   "cell_type": "markdown",
   "metadata": {},
   "source": [
    "## Food types overview"
   ]
  },
  {
   "cell_type": "code",
   "execution_count": null,
   "metadata": {},
   "outputs": [],
   "source": [
    "sample_types = get_sample_types(gfop_metadata, 'sample_type_group4')\n",
    "food_counts = (\n",
    "    get_dataset_sample_type_counts(data_dir, datasets, sample_types)\n",
    "    .dropna(axis=0, how='all').fillna(0).astype(int))\n",
    "food_order = (sample_type_hierarchy['order_num']\n",
    "              .reindex(food_counts.columns + '_4')\n",
    "              .sort_values().index.str[:-2])\n",
    "food_counts = food_counts[food_order]\n",
    "plot_stacked_bar(food_counts, 'overview_food_types.png')"
   ]
  },
  {
   "cell_type": "markdown",
   "metadata": {},
   "source": [
    "## Fermented status"
   ]
  },
  {
   "cell_type": "code",
   "execution_count": null,
   "metadata": {},
   "outputs": [],
   "source": [
    "fermented_status = get_sample_types(gfop_metadata, 'fermented')\n",
    "fermented_counts = (\n",
    "    get_dataset_sample_type_counts(data_dir, datasets, fermented_status)\n",
    "    .rename(columns={'yes': 'fermented', 'no': 'not fermented'})\n",
    "    [['fermented', 'not fermented', 'not entered']])\n",
    "plot_stacked_bar(fermented_counts, 'overview_fermented.png')"
   ]
  },
  {
   "cell_type": "markdown",
   "metadata": {},
   "source": [
    "## Beverage types"
   ]
  },
  {
   "cell_type": "code",
   "execution_count": null,
   "metadata": {},
   "outputs": [],
   "source": [
    "beverage_types = get_sample_types(gfop_metadata, 'sample_type_groupB3')\n",
    "beverage_counts = (\n",
    "    get_dataset_sample_type_counts(data_dir, datasets, beverage_types)\n",
    "    .drop(columns=['not applicable', 'unmatched']))\n",
    "plot_stacked_bar(beverage_counts, 'overview_beverage.png')"
   ]
  },
  {
   "cell_type": "markdown",
   "metadata": {},
   "source": [
    "## Botanical families"
   ]
  },
  {
   "cell_type": "code",
   "execution_count": null,
   "metadata": {},
   "outputs": [],
   "source": [
    "botanical_families = get_sample_types(gfop_metadata, 'botanical_family')\n",
    "botanical_counts = (\n",
    "    get_dataset_sample_type_counts(data_dir, datasets, botanical_families)\n",
    "    .drop(columns=['not collected', 'not entered', 'not applicable',\n",
    "                   'unmatched']))\n",
    "plot_stacked_bar(botanical_counts, 'overview_botanical.png')"
   ]
  },
  {
   "cell_type": "markdown",
   "metadata": {},
   "source": [
    "## Analysis 2269"
   ]
  },
  {
   "cell_type": "code",
   "execution_count": null,
   "metadata": {},
   "outputs": [],
   "source": [
    "analysis_2269_types = get_sample_types(gfop_metadata, 'analysis_2269')\n",
    "analysis_2269_counts = (\n",
    "    get_dataset_sample_type_counts(data_dir, datasets, analysis_2269_types)\n",
    "    .drop(columns=['unmatched']))\n",
    "plot_stacked_bar(analysis_2269_counts, 'overview_2269.png')"
   ]
  },
  {
   "cell_type": "markdown",
   "metadata": {},
   "source": [
    "## Cheese types"
   ]
  },
  {
   "cell_type": "code",
   "execution_count": null,
   "metadata": {},
   "outputs": [],
   "source": [
    "cheese_types = get_sample_types(gfop_metadata, 'cheese_sample_type')\n",
    "cheese_counts = (\n",
    "    get_dataset_sample_type_counts(data_dir, datasets, cheese_types)\n",
    "    .drop(columns=['not applicable', 'not entered', 'unmatched']))\n",
    "plot_stacked_bar(cheese_counts, 'overview_cheese.png')"
   ]
  },
  {
   "cell_type": "markdown",
   "metadata": {},
   "source": [
    "## Main food description"
   ]
  },
  {
   "cell_type": "code",
   "execution_count": null,
   "metadata": {},
   "outputs": [],
   "source": [
    "main_types = get_sample_types(gfop_metadata, 'Main.food.description')\n",
    "main_counts = (\n",
    "    get_dataset_sample_type_counts(data_dir, datasets, main_types)\n",
    "    .drop(columns=['not entered', 'unmatched']))\n",
    "plot_stacked_bar(main_counts, 'overview_main_food_description.png')"
   ]
  },
  {
   "cell_type": "markdown",
   "metadata": {},
   "source": [
    "## Processing method"
   ]
  },
  {
   "cell_type": "code",
   "execution_count": null,
   "metadata": {},
   "outputs": [],
   "source": [
    "processed_types = get_sample_types(gfop_metadata, 'processed_method_jps')\n",
    "processed_counts = (\n",
    "    get_dataset_sample_type_counts(data_dir, datasets, processed_types)\n",
    "    .drop(columns=['not applicable', 'not entered', 'unmatched']))\n",
    "plot_stacked_bar(processed_counts, 'overview_processed.png')"
   ]
  },
  {
   "cell_type": "markdown",
   "metadata": {},
   "source": [
    "## Raw processing method"
   ]
  },
  {
   "cell_type": "code",
   "execution_count": null,
   "metadata": {},
   "outputs": [],
   "source": [
    "raw_processed_types = get_sample_types(gfop_metadata, 'raw_processed')\n",
    "raw_processed_counts = (\n",
    "    get_dataset_sample_type_counts(data_dir, datasets, raw_processed_types)\n",
    "    .drop(columns=['not entered', 'not applicable', 'unmatched']))\n",
    "plot_stacked_bar(raw_processed_counts, 'overview_raw_processed.png')"
   ]
  },
  {
   "cell_type": "markdown",
   "metadata": {},
   "source": [
    "## Number of foods per sample type"
   ]
  },
  {
   "cell_type": "code",
   "execution_count": null,
   "metadata": {},
   "outputs": [],
   "source": [
    "# Attention! This overwrites the previous definition of\n",
    "# `get_network_group_sample_type_counts`.\n",
    "def get_network_group_sample_type_counts(\n",
    "        gnps_network, sample_types, groups_included):\n",
    "    groups = {f'G{i}' for i in range(1, 7)}\n",
    "    groups_excluded = groups - set(groups_included)\n",
    "    df_selected = gnps_network[\n",
    "        (gnps_network[groups_included] > 0).all(axis=1) &\n",
    "        (gnps_network[groups_excluded] == 0).all(axis=1)].copy()\n",
    "    filenames = df_selected['UniqueFileSources'].str.split('|').explode()\n",
    "    return (df_selected['UniqueFileSources'].str.split('|').apply(\n",
    "        lambda filenames: sample_types.reindex(filenames).dropna()\n",
    "        ['sample_type_group4'].nunique())).reset_index(drop=True)"
   ]
  },
  {
   "cell_type": "code",
   "execution_count": null,
   "metadata": {},
   "outputs": [],
   "source": [
    "sample_counts = pd.melt(get_dataset_sample_type_counts(\n",
    "    data_dir, datasets, sample_types).reset_index(), id_vars='study')\n",
    "num_foods = pd.DataFrame(data={\n",
    "    'Sample type': np.stack(sample_counts['study'].str.split(' - '))[:, 1],\n",
    "    'Number of foods matched': sample_counts['value']})"
   ]
  },
  {
   "cell_type": "code",
   "execution_count": null,
   "metadata": {},
   "outputs": [],
   "source": [
    "width = 7\n",
    "height = width / 1.618\n",
    "fig, ax = plt.subplots(figsize=(width, height))\n",
    "\n",
    "sns.violinplot(x='Sample type', y='Number of foods matched', data=num_foods)\n",
    "\n",
    "ax.set_ylabel('Number of unique foods matched per cluster')\n",
    "\n",
    "sns.despine()\n",
    "\n",
    "plt.savefig('overview_num_foods', dpi=300, bbox_inches='tight')\n",
    "plt.show()\n",
    "plt.close()"
   ]
  }
 ],
 "metadata": {
  "kernelspec": {
   "display_name": "Python 3",
   "language": "python",
   "name": "python3"
  },
  "language_info": {
   "codemirror_mode": {
    "name": "ipython",
    "version": 3
   },
   "file_extension": ".py",
   "mimetype": "text/x-python",
   "name": "python",
   "nbconvert_exporter": "python",
   "pygments_lexer": "ipython3",
   "version": "3.8.2"
  }
 },
 "nbformat": 4,
 "nbformat_minor": 2
}
